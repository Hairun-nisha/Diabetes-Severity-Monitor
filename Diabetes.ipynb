{
  "nbformat": 4,
  "nbformat_minor": 0,
  "metadata": {
    "colab": {
      "provenance": [],
      "authorship_tag": "ABX9TyMnM0zNXpOYjGyGeJ1WWwUP",
      "include_colab_link": true
    },
    "kernelspec": {
      "name": "python3",
      "display_name": "Python 3"
    },
    "language_info": {
      "name": "python"
    }
  },
  "cells": [
    {
      "cell_type": "markdown",
      "metadata": {
        "id": "view-in-github",
        "colab_type": "text"
      },
      "source": [
        "<a href=\"https://colab.research.google.com/github/Hairun-nisha/Diabetes-Severity-Monitor/blob/main/Diabetes.ipynb\" target=\"_parent\"><img src=\"https://colab.research.google.com/assets/colab-badge.svg\" alt=\"Open In Colab\"/></a>"
      ]
    },
    {
      "cell_type": "code",
      "execution_count": 1,
      "metadata": {
        "colab": {
          "base_uri": "https://localhost:8080/"
        },
        "id": "yUYN9XRYzlv5",
        "outputId": "111c0aa9-5275-4758-b6f2-2919b8441ca3"
      },
      "outputs": [
        {
          "output_type": "stream",
          "name": "stdout",
          "text": [
            "Collecting kaleido\n",
            "  Downloading kaleido-0.2.1-py2.py3-none-manylinux1_x86_64.whl.metadata (15 kB)\n",
            "Downloading kaleido-0.2.1-py2.py3-none-manylinux1_x86_64.whl (79.9 MB)\n",
            "\u001b[2K   \u001b[90m━━━━━━━━━━━━━━━━━━━━━━━━━━━━━━━━━━━━━━━━\u001b[0m \u001b[32m79.9/79.9 MB\u001b[0m \u001b[31m7.7 MB/s\u001b[0m eta \u001b[36m0:00:00\u001b[0m\n",
            "\u001b[?25hInstalling collected packages: kaleido\n",
            "Successfully installed kaleido-0.2.1\n"
          ]
        }
      ],
      "source": [
        "!pip install -U kaleido"
      ]
    },
    {
      "cell_type": "code",
      "source": [
        "!pip install reportlab==3.6.12"
      ],
      "metadata": {
        "colab": {
          "base_uri": "https://localhost:8080/"
        },
        "id": "CYftN8iSz0oo",
        "outputId": "572aa0ee-9122-4899-e4f2-1f42e816d373"
      },
      "execution_count": 2,
      "outputs": [
        {
          "output_type": "stream",
          "name": "stdout",
          "text": [
            "Collecting reportlab==3.6.12\n",
            "  Downloading reportlab-3.6.12-cp310-cp310-manylinux_2_17_x86_64.manylinux2014_x86_64.whl.metadata (1.2 kB)\n",
            "Requirement already satisfied: pillow>=9.0.0 in /usr/local/lib/python3.10/dist-packages (from reportlab==3.6.12) (10.4.0)\n",
            "Downloading reportlab-3.6.12-cp310-cp310-manylinux_2_17_x86_64.manylinux2014_x86_64.whl (2.8 MB)\n",
            "\u001b[2K   \u001b[90m━━━━━━━━━━━━━━━━━━━━━━━━━━━━━━━━━━━━━━━━\u001b[0m \u001b[32m2.8/2.8 MB\u001b[0m \u001b[31m20.7 MB/s\u001b[0m eta \u001b[36m0:00:00\u001b[0m\n",
            "\u001b[?25hInstalling collected packages: reportlab\n",
            "Successfully installed reportlab-3.6.12\n"
          ]
        }
      ]
    },
    {
      "cell_type": "code",
      "source": [
        "!pip install fpdf"
      ],
      "metadata": {
        "colab": {
          "base_uri": "https://localhost:8080/"
        },
        "id": "LQXU7s4Xz2yX",
        "outputId": "e52a08bb-539c-4075-eeb8-8158ad380b04"
      },
      "execution_count": 3,
      "outputs": [
        {
          "output_type": "stream",
          "name": "stdout",
          "text": [
            "Collecting fpdf\n",
            "  Downloading fpdf-1.7.2.tar.gz (39 kB)\n",
            "  Preparing metadata (setup.py) ... \u001b[?25l\u001b[?25hdone\n",
            "Building wheels for collected packages: fpdf\n",
            "  Building wheel for fpdf (setup.py) ... \u001b[?25l\u001b[?25hdone\n",
            "  Created wheel for fpdf: filename=fpdf-1.7.2-py2.py3-none-any.whl size=40704 sha256=9e242c6007523d960adcfeb482f43a372d6d311bb096db7e6a5277969518e974\n",
            "  Stored in directory: /root/.cache/pip/wheels/f9/95/ba/f418094659025eb9611f17cbcaf2334236bf39a0c3453ea455\n",
            "Successfully built fpdf\n",
            "Installing collected packages: fpdf\n",
            "Successfully installed fpdf-1.7.2\n"
          ]
        }
      ]
    },
    {
      "cell_type": "code",
      "source": [
        "pip install pandas scikit-learn fpdf"
      ],
      "metadata": {
        "colab": {
          "base_uri": "https://localhost:8080/"
        },
        "id": "ovgqIG2Qz6Ce",
        "outputId": "919db0fd-af1b-4fa8-ad8d-d08f2fe5ae23"
      },
      "execution_count": 4,
      "outputs": [
        {
          "output_type": "stream",
          "name": "stdout",
          "text": [
            "Requirement already satisfied: pandas in /usr/local/lib/python3.10/dist-packages (2.2.2)\n",
            "Requirement already satisfied: scikit-learn in /usr/local/lib/python3.10/dist-packages (1.5.2)\n",
            "Requirement already satisfied: fpdf in /usr/local/lib/python3.10/dist-packages (1.7.2)\n",
            "Requirement already satisfied: numpy>=1.22.4 in /usr/local/lib/python3.10/dist-packages (from pandas) (1.26.4)\n",
            "Requirement already satisfied: python-dateutil>=2.8.2 in /usr/local/lib/python3.10/dist-packages (from pandas) (2.8.2)\n",
            "Requirement already satisfied: pytz>=2020.1 in /usr/local/lib/python3.10/dist-packages (from pandas) (2024.2)\n",
            "Requirement already satisfied: tzdata>=2022.7 in /usr/local/lib/python3.10/dist-packages (from pandas) (2024.2)\n",
            "Requirement already satisfied: scipy>=1.6.0 in /usr/local/lib/python3.10/dist-packages (from scikit-learn) (1.13.1)\n",
            "Requirement already satisfied: joblib>=1.2.0 in /usr/local/lib/python3.10/dist-packages (from scikit-learn) (1.4.2)\n",
            "Requirement already satisfied: threadpoolctl>=3.1.0 in /usr/local/lib/python3.10/dist-packages (from scikit-learn) (3.5.0)\n",
            "Requirement already satisfied: six>=1.5 in /usr/local/lib/python3.10/dist-packages (from python-dateutil>=2.8.2->pandas) (1.16.0)\n"
          ]
        }
      ]
    },
    {
      "cell_type": "code",
      "source": [
        "import pandas as pd\n",
        "from fpdf import FPDF\n",
        "from datetime import datetime, timedelta\n",
        "from sklearn.ensemble import RandomForestClassifier\n",
        "from sklearn.model_selection import train_test_split\n",
        "from sklearn.metrics import classification_report, accuracy_score\n",
        "import matplotlib.pyplot as plt\n",
        "\n",
        "# Load the patient data\n",
        "data = pd.read_csv('diabetes_prediction_dataset.csv')\n",
        "\n",
        "# Features for training\n",
        "X = data[['age', 'bmi', 'blood_glucose_level', 'HbA1c_level']]\n",
        "y = data['diabetes']  # The target column with values indicating diabetes severity\n",
        "\n",
        "# Split the data into training and testing sets\n",
        "X_train, X_test, y_train, y_test = train_test_split(X, y, test_size=0.2, random_state=42)\n",
        "\n",
        "# Train a Random Forest classifier\n",
        "model = RandomForestClassifier(n_estimators=100, random_state=42)\n",
        "model.fit(X_train, y_train)\n",
        "\n",
        "# Make predictions on the test set\n",
        "y_pred = model.predict(X_test)\n",
        "\n",
        "# Calculate accuracy\n",
        "accuracy = accuracy_score(y_test, y_pred)\n",
        "\n",
        "# Print classification report for accuracy and performance evaluation\n",
        "print(f\"Classification Report:\\n{classification_report(y_test, y_pred)}\")\n",
        "print(f\"Accuracy:{accuracy * 100:.2f}%\")\n",
        "\n",
        "# Predict categories for all rows in the dataset\n",
        "data['Predicted_Category'] = model.predict(X)\n",
        "\n",
        "# Define diet plans for Severe Diabetics based on glucose levels\n",
        "diet_plans = {\n",
        "    0: \"Balanced diet, regular physical activity.\",\n",
        "    1: \"High-fiber diet, regular exercise.\",\n",
        "    2: \"Low-carb diet, blood sugar monitoring.\",\n",
        "    2.1: \"Strict low-carb diet, glucose monitoring, insulin intake.\",  # Strict diet for severe diabetics aged 50 and above\n",
        "    2.2: \"Low-calorie diet, increased insulin intake, blood sugar monitoring.\",\n",
        "    2.3: \"Zero-sugar diet, medical monitoring, daily exercise.\"\n",
        "}\n",
        "\n",
        "# Function to calculate next checkup date based on severity\n",
        "def calculate_checkup_date(category, age=None, glucose_level=None):\n",
        "    today = datetime.today()\n",
        "    if category == 0:  # Non-diabetic\n",
        "        next_checkup = today + timedelta(weeks=26)  # 6 months\n",
        "    elif category == 1:  # Moderate Diabetic\n",
        "        next_checkup = today + timedelta(weeks=12)  # 3 months\n",
        "    elif category == 2:  # Severe Diabetic\n",
        "        if age and age >= 50:  # For patients aged 50 and above, checkup every 2 weeks\n",
        "            next_checkup = today + timedelta(weeks=2)\n",
        "        elif glucose_level is not None:\n",
        "            if glucose_level > 200:  # More severe cases with high glucose\n",
        "                next_checkup = today + timedelta(weeks=1)  # Checkup every week for higher severity\n",
        "            elif glucose_level > 150:\n",
        "                next_checkup = today + timedelta(weeks=2)  # Checkup every 2 weeks for moderate severity\n",
        "            else:\n",
        "                next_checkup = today + timedelta(weeks=4)  # Regular checkup for lower severity\n",
        "        else:\n",
        "            next_checkup = today + timedelta(weeks=4)  # Default for Severe Diabetic\n",
        "    return next_checkup.strftime(\"%Y-%m-%d\")\n",
        "\n",
        "# Create a pie chart showing the percentage of diabetic and non-diabetic patients\n",
        "diabetes_counts = data['Predicted_Category'].value_counts()\n",
        "labels = [\"Non-Diabetic\", \"Moderate Diabetic\", \"Severe Diabetic\"]\n",
        "sizes = [diabetes_counts.get(i, 0) for i in range(3)]\n",
        "plt.figure(figsize=(6, 6))\n",
        "plt.pie(sizes, labels=labels, autopct='%1.1f%%', startangle=140, colors=['#66c2a5', '#fc8d62', '#8da0cb'])\n",
        "plt.title(\"Diabetes Prediction Distribution\")\n",
        "plt.savefig(\"diabetes_pie_chart.png\")\n",
        "plt.close()\n",
        "\n",
        "# Create PDF\n",
        "pdf = FPDF()\n",
        "pdf.set_auto_page_break(auto=True, margin=15)\n",
        "pdf.add_page()\n",
        "\n",
        "# Title\n",
        "pdf.set_font('Arial', 'B', 14)\n",
        "pdf.cell(200, 10, txt=\"Diabetes Prediction Report\", ln=True, align='C')\n",
        "\n",
        "# Display accuracy in the PDF\n",
        "pdf.set_font('Arial', '', 12)\n",
        "pdf.ln(10)\n",
        "pdf.cell(200, 10, txt=f\"Model Accuracy: {accuracy * 100:.2f}%\", ln=True)  # Show accuracy as percentage\n",
        "\n",
        "\n",
        "# Function to create a table for each category\n",
        "def create_table(category, category_name):\n",
        "    pdf.ln(10)\n",
        "    pdf.set_font('Arial', 'B', 12)\n",
        "    pdf.cell(100, 5, category_name, ln=True, align='C')  # Category Name as table title\n",
        "\n",
        "    pdf.set_font('Arial', 'B', 10)\n",
        "\n",
        "    # Table headers with increased column sizes\n",
        "    pdf.cell(50, 10, \"Patient ID\", border=1)\n",
        "    pdf.cell(40, 10, \"Age\", border=1)\n",
        "    pdf.cell(80, 10, \"Diet Plan\", border=1)\n",
        "    pdf.cell(60, 10, \"Checkup Date\", border=1)\n",
        "    pdf.ln()\n",
        "\n",
        "    # Add rows for each patient in the category\n",
        "    pdf.set_font('Arial', '', 8)\n",
        "    for index, row in data[data['Predicted_Category'] == category].iterrows():\n",
        "        diet_plan = diet_plans[category]\n",
        "\n",
        "        # Adjust diet plan for severe diabetics aged 50 and above\n",
        "        if category == 2:\n",
        "            diet_plan = diet_plans[2.1] if row['age'] >= 50 else diet_plans[2]\n",
        "\n",
        "        # Assign the same checkup date for all severe diabetics\n",
        "        if category == 2:\n",
        "            checkup_date = \"2024-11-30\"  # Set a fixed checkup date for all severe diabetics\n",
        "        else:\n",
        "            checkup_date = calculate_checkup_date(category, row['age'], row['blood_glucose_level'])\n",
        "\n",
        "        pdf.cell(50, 10, str(index), border=1)  # Assuming Patient ID as index\n",
        "        pdf.cell(40, 10, str(row['age']), border=1)\n",
        "        pdf.cell(80, 10, diet_plan, border=1)\n",
        "        pdf.cell(60, 10, checkup_date, border=1)\n",
        "        pdf.ln()\n",
        "\n",
        "# Create tables for each category\n",
        "create_table(0, \"Non-Diabetic\")  # Non-Diabetic patients\n",
        "create_table(1, \"Moderate Diabetic\")  # Moderate Diabetic patients\n",
        "create_table(2, \"Severe Diabetic\")  # Severe Diabetic patients\n",
        "\n",
        "# Save PDF\n",
        "pdf.output(\"diabetes_report.pdf\")\n",
        "\n"
      ],
      "metadata": {
        "id": "GXPjplojz9HV"
      },
      "execution_count": null,
      "outputs": []
    }
  ]
}